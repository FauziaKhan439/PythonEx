{
  "nbformat": 4,
  "nbformat_minor": 0,
  "metadata": {
    "colab": {
      "provenance": [],
      "authorship_tag": "ABX9TyMmc2Ib1LGjaLU4UcxEHi/I",
      "include_colab_link": true
    },
    "kernelspec": {
      "name": "python3",
      "display_name": "Python 3"
    },
    "language_info": {
      "name": "python"
    }
  },
  "cells": [
    {
      "cell_type": "markdown",
      "metadata": {
        "id": "view-in-github",
        "colab_type": "text"
      },
      "source": [
        "<a href=\"https://colab.research.google.com/github/FauziaKhan439/PythonEx/blob/exp_mental/Pana_Class06th.ipynb\" target=\"_parent\"><img src=\"https://colab.research.google.com/assets/colab-badge.svg\" alt=\"Open In Colab\"/></a>"
      ]
    },
    {
      "cell_type": "markdown",
      "source": [
        "## Topics\n",
        "How lists are stored in memory\n"
      ],
      "metadata": {
        "id": "lH3pJfqoJe66"
      }
    },
    {
      "cell_type": "code",
      "source": [
        "#how lists are stored in memory\n",
        "names: list[str]=[\"Rehan\", \"Ammar\"]\n",
        "\n",
        "#everything in python is an object"
      ],
      "metadata": {
        "id": "R2eOezwqJo4O"
      },
      "execution_count": 3,
      "outputs": []
    },
    {
      "cell_type": "code",
      "source": [
        "#for memory address we have id funton\n",
        "print(f\"memory address of list:{id(names)}\")\n",
        "print(f\"memory address of Rehan:{id(names[0])}\")\n",
        "print(f\"memory address of Ammar:{id(names[1])}\")\n",
        "#all addresses would be different"
      ],
      "metadata": {
        "colab": {
          "base_uri": "https://localhost:8080/"
        },
        "id": "EMojCOSxLdif",
        "outputId": "b97e27ab-357e-46ad-bca6-5f25fb14a594"
      },
      "execution_count": 4,
      "outputs": [
        {
          "output_type": "stream",
          "name": "stdout",
          "text": [
            "memory address of list:135069438038016\n",
            "memory address of Rehan:135069435289904\n",
            "memory address of Ammar:135069435282608\n"
          ]
        }
      ]
    },
    {
      "cell_type": "code",
      "source": [
        "any_list: list[int | list] = [1,2,[5,6,7]]  #list is mutable and hence can be changed #nested list\n",
        "print(any_list[2])"
      ],
      "metadata": {
        "colab": {
          "base_uri": "https://localhost:8080/"
        },
        "id": "0T8ueKmXLwsC",
        "outputId": "31deee5c-69e2-439e-ada4-762276816b0e"
      },
      "execution_count": 2,
      "outputs": [
        {
          "output_type": "stream",
          "name": "stdout",
          "text": [
            "[5, 6, 7]\n"
          ]
        }
      ]
    },
    {
      "cell_type": "code",
      "source": [
        "#Lists are mutable\n",
        "print(f\"List without modification:  {any_list}\") #we will modify it and will check the impact\n",
        "print(f\"List without modification: {id(any_list)}\")\n",
        "any_list[2].append(8)\n",
        "print(f\"List after modification: {any_list}\")\n",
        "print(f\"List after modification: {id(any_list)}\")  #in immutable d/t new memory address- new object and new memory address"
      ],
      "metadata": {
        "colab": {
          "base_uri": "https://localhost:8080/"
        },
        "id": "wRXQoujGMnK2",
        "outputId": "5374755c-7033-426a-9d4c-9bce8905da82"
      },
      "execution_count": 4,
      "outputs": [
        {
          "output_type": "stream",
          "name": "stdout",
          "text": [
            "List without modification:  [1, 2, [5, 6, 7, 8]]\n",
            "List without modification: 134914537922368\n",
            "List after modification: [1, 2, [5, 6, 7, 8, 8]]\n",
            "List after modification: 134914537922368\n"
          ]
        }
      ]
    },
    {
      "cell_type": "markdown",
      "source": [],
      "metadata": {
        "id": "sHKifGY_dwFY"
      }
    },
    {
      "cell_type": "markdown",
      "source": [
        "#Sequenced DT\n",
        "#Slicing\n",
        "\n",
        "Sets are unordered but lists are ordered"
      ],
      "metadata": {
        "id": "yxsCalo7dym0"
      }
    },
    {
      "cell_type": "code",
      "source": [
        "#sets\n",
        "my_list={3,4,5,6,7,10,9}\n",
        "print(my_list)\n",
        "\n",
        "#order changed by python into a logical order in set\n",
        "#it wont happen in case of list\n",
        "\n",
        "my_list1=[3,4,5,6,7,10,9]\n",
        "print(my_list1)\n"
      ],
      "metadata": {
        "colab": {
          "base_uri": "https://localhost:8080/"
        },
        "id": "WoJ0AYMsd02Q",
        "outputId": "947f4ff1-6b7c-43c0-f2fb-af7054f06171"
      },
      "execution_count": 10,
      "outputs": [
        {
          "output_type": "stream",
          "name": "stdout",
          "text": [
            "{3, 4, 5, 6, 7, 9, 10}\n",
            "[3, 4, 5, 6, 7, 10, 9]\n"
          ]
        }
      ]
    },
    {
      "cell_type": "markdown",
      "source": [
        "#One more primitive data type which is ordered is string"
      ],
      "metadata": {
        "id": "KmXXvYEWeroO"
      }
    },
    {
      "cell_type": "code",
      "source": [
        "my_name: str =\"Rehan\" #sequenced data type- charachters system - indexed data type as it is equenced\n",
        "print(my_name[0])\n",
        "print(my_name[1])\n",
        "print(my_name[2])\n",
        "print(my_name[3])\n",
        "print(my_name[4])"
      ],
      "metadata": {
        "colab": {
          "base_uri": "https://localhost:8080/"
        },
        "id": "C30lDd7xe1A9",
        "outputId": "4c00b118-cc16-4545-bb9d-c8a2a13bfd71"
      },
      "execution_count": 11,
      "outputs": [
        {
          "output_type": "stream",
          "name": "stdout",
          "text": [
            "R\n",
            "e\n",
            "h\n",
            "a\n",
            "n\n"
          ]
        }
      ]
    },
    {
      "cell_type": "code",
      "source": [
        "numbered_list:list[int] = [1,4,6,9,3]  #indexes from left to right starting from 0, python gives us option for right to left too\n",
        "#right most elemt is -1\n",
        "# 0 1 2 3 -->\n",
        "# -4  -3  -2  -1  <--\n",
        "print(numbered_list[-1])\n",
        "print(numbered_list[-2])\n",
        "print(numbered_list[-3])\n",
        "\n"
      ],
      "metadata": {
        "colab": {
          "base_uri": "https://localhost:8080/"
        },
        "id": "5oVrB_CAfbSm",
        "outputId": "02561483-4a44-4183-c95f-0cb73c259f1c"
      },
      "execution_count": 12,
      "outputs": [
        {
          "output_type": "stream",
          "name": "stdout",
          "text": [
            "3\n",
            "9\n",
            "6\n"
          ]
        }
      ]
    },
    {
      "cell_type": "markdown",
      "source": [
        "##Slicing - we access the part of the list\n",
        "##in case of apple slicing when we remove a slice it leaves void\n",
        "##in case of list, when we remove an element it will make you a new List\n"
      ],
      "metadata": {
        "id": "8M9kdKkbgI23"
      }
    },
    {
      "cell_type": "code",
      "source": [
        "cities: list[str]=[\"islamabad\", \"karachi\", \"lahore\", \"peshawer\",\"multan\"]\n",
        "print(cities)"
      ],
      "metadata": {
        "colab": {
          "base_uri": "https://localhost:8080/"
        },
        "id": "cIpCEd5TgdK6",
        "outputId": "ecac70f4-01c9-4b5a-dab3-9995bfc47cc6"
      },
      "execution_count": 13,
      "outputs": [
        {
          "output_type": "stream",
          "name": "stdout",
          "text": [
            "['islamabad', 'karachi', 'lahore', 'peshawer', 'multan']\n"
          ]
        }
      ]
    },
    {
      "cell_type": "markdown",
      "source": [
        "`[start_index:ending_index+1]`\n",
        "[start :end: step]"
      ],
      "metadata": {
        "id": "M3niTiOmhj2M"
      }
    },
    {
      "cell_type": "code",
      "source": [
        "sliced_cities: list[str]=cities[1:4:1] #end index is not included so end+1  #by default step 1\n",
        "print(sliced_cities)"
      ],
      "metadata": {
        "colab": {
          "base_uri": "https://localhost:8080/"
        },
        "id": "YNzV_9enhm2o",
        "outputId": "de55135f-0837-4f86-b83b-4a4973ddd4d1"
      },
      "execution_count": 14,
      "outputs": [
        {
          "output_type": "stream",
          "name": "stdout",
          "text": [
            "['karachi', 'lahore', 'peshawer']\n"
          ]
        }
      ]
    },
    {
      "cell_type": "code",
      "source": [
        "print(id(cities))\n",
        "print(id(sliced_cities))"
      ],
      "metadata": {
        "colab": {
          "base_uri": "https://localhost:8080/"
        },
        "id": "LHiUAth1iOai",
        "outputId": "cf7b9132-b3c5-407b-d9b0-a9ae02ad5bbd"
      },
      "execution_count": 15,
      "outputs": [
        {
          "output_type": "stream",
          "name": "stdout",
          "text": [
            "134913847807296\n",
            "134913847043968\n"
          ]
        }
      ]
    },
    {
      "cell_type": "code",
      "source": [
        "#step 2 instead of 1\n",
        "sliced_cities: list[str]=cities[1:4:2]\n",
        "print(sliced_cities)"
      ],
      "metadata": {
        "colab": {
          "base_uri": "https://localhost:8080/"
        },
        "id": "p7TyDzjMiZWG",
        "outputId": "12761b02-48b0-4fcd-b407-b9c41991ed7d"
      },
      "execution_count": 16,
      "outputs": [
        {
          "output_type": "stream",
          "name": "stdout",
          "text": [
            "['karachi', 'peshawer']\n"
          ]
        }
      ]
    },
    {
      "cell_type": "code",
      "source": [
        "sliced_cities: list[str]=cities[:4:2]  #if i miss starting - it will start with 0 index by def\n",
        "print(sliced_cities)"
      ],
      "metadata": {
        "colab": {
          "base_uri": "https://localhost:8080/"
        },
        "id": "26sVeCJ2imRL",
        "outputId": "a51f6028-5e41-4012-a2d9-3e67aec42ee3"
      },
      "execution_count": 18,
      "outputs": [
        {
          "output_type": "stream",
          "name": "stdout",
          "text": [
            "['islamabad', 'lahore']\n"
          ]
        }
      ]
    },
    {
      "cell_type": "code",
      "source": [
        "#what if i give 5 or 6 -> it will include all the length  of the list till where it is.\n",
        "#Even if the ending index doesnt exist you wont get the rror\n",
        "\n",
        "sliced_cities: list[str]=cities[:20:2]\n",
        "print(sliced_cities)"
      ],
      "metadata": {
        "colab": {
          "base_uri": "https://localhost:8080/"
        },
        "id": "xUSQrTFGjP_d",
        "outputId": "21e4b80d-23a4-43ee-f4d8-c1156af482a6"
      },
      "execution_count": 20,
      "outputs": [
        {
          "output_type": "stream",
          "name": "stdout",
          "text": [
            "['islamabad', 'lahore', 'multan']\n"
          ]
        }
      ]
    },
    {
      "cell_type": "code",
      "source": [
        "#if we remove the ending index - than last element will be included  #start 0 and end -1 will be included if we dont give ending\n",
        "sliced_cities: list[str]=cities[::2]\n",
        "print(sliced_cities)\n",
        "sliced_cities: list[str]=cities[:]  #all list  - we get a copy of list called SHALLOW COPY / ONE IS DEEP COPY\n",
        "print(sliced_cities)"
      ],
      "metadata": {
        "colab": {
          "base_uri": "https://localhost:8080/"
        },
        "id": "EJnd-A0enWyh",
        "outputId": "e70450c5-4fcf-4a1c-84d3-a7ecb22c000b"
      },
      "execution_count": 23,
      "outputs": [
        {
          "output_type": "stream",
          "name": "stdout",
          "text": [
            "['islamabad', 'lahore', 'multan']\n",
            "['islamabad', 'karachi', 'lahore', 'peshawer', 'multan']\n"
          ]
        }
      ]
    },
    {
      "cell_type": "code",
      "source": [
        "new_cities: list[str]=cities[::-1]  #take one step right to left - gives reverse list  - do slicing make a copy and give -1\n",
        "print(new_cities)\n",
        "new_cities: list[str]=cities[-3:-1]  #last one would not be included , -2 is peshawer and -3 is lahore, start with lahore and end at -1\n",
        "#index is telling the position but not the direction- direction will change on the basis of step\n",
        "print(new_cities)"
      ],
      "metadata": {
        "colab": {
          "base_uri": "https://localhost:8080/"
        },
        "id": "M7Qj48Rjoj79",
        "outputId": "712985a8-3c45-42dd-a335-be60342512ec"
      },
      "execution_count": 25,
      "outputs": [
        {
          "output_type": "stream",
          "name": "stdout",
          "text": [
            "['multan', 'peshawer', 'lahore', 'karachi', 'islamabad']\n",
            "['lahore', 'peshawer']\n"
          ]
        }
      ]
    },
    {
      "cell_type": "code",
      "source": [
        "new_cities:list[str] =cities[-2:-5]  #-2 is position (start list from here) ->Peshawer  give me ending point Islamabad -its direction will remain L to R but doesnt know L to R\n",
        "print(new_cities)\n",
        "\n",
        "#['islamabad', 'karachi', 'lahore', 'peshawer', 'multan']\n",
        "      #end                             -start   but it has to go from left to riht so empty list\n",
        "\n",
        "#now change direction of list\n",
        "new_cities:list[str] =cities[-2:-5:-1]#now direction right to left so -2 would be peshawer, -3 would be lahore and -4 would be karachi, with change direction from right to left\n",
        "print(new_cities)"
      ],
      "metadata": {
        "colab": {
          "base_uri": "https://localhost:8080/"
        },
        "id": "zkVF5rcCqKfu",
        "outputId": "112da0f6-f837-40dd-c8cd-101cbe90924b"
      },
      "execution_count": 28,
      "outputs": [
        {
          "output_type": "stream",
          "name": "stdout",
          "text": [
            "[]\n",
            "['peshawer', 'lahore', 'karachi']\n"
          ]
        }
      ]
    },
    {
      "cell_type": "code",
      "source": [
        "new_cities:list[str] =cities[-5:-2:-1]\n",
        "print(new_cities)\n",
        "\n",
        "#in above caase\n",
        "#['islamabad', 'karachi', 'lahore', 'peshawer', 'multan']\n",
        "      #start                           end              but it has to go from start to left and it doesnt know where to go\n"
      ],
      "metadata": {
        "colab": {
          "base_uri": "https://localhost:8080/"
        },
        "id": "0N0w36DTwY5S",
        "outputId": "6b862d76-81a6-4d31-8496-7fc191e8510d"
      },
      "execution_count": 29,
      "outputs": [
        {
          "output_type": "stream",
          "name": "stdout",
          "text": [
            "[]\n"
          ]
        }
      ]
    },
    {
      "cell_type": "markdown",
      "source": [
        "String slicing can be done like list slicing - assignmnet  2"
      ],
      "metadata": {
        "id": "cHcRN6Vcy7r3"
      }
    },
    {
      "cell_type": "markdown",
      "source": [
        "##String Methods\n",
        "#why we need different data types - to handle different types of data and perform different operations on it\n",
        "#example of email - I would not put different kind of emails in the db, so we use a method to make it all lower etc"
      ],
      "metadata": {
        "id": "QhGV_A9MzHnE"
      }
    },
    {
      "cell_type": "code",
      "source": [
        "dir()  #will give all the data types of a data type\n",
        "dir(str)\n",
        "#_add_  dundle methods\n",
        "#remove _add_ methods\n"
      ],
      "metadata": {
        "colab": {
          "base_uri": "https://localhost:8080/"
        },
        "id": "ttSlH2RYzNj7",
        "outputId": "3b90da5b-6e30-4d90-c67e-8b331e45a466"
      },
      "execution_count": 30,
      "outputs": [
        {
          "output_type": "execute_result",
          "data": {
            "text/plain": [
              "['__add__',\n",
              " '__class__',\n",
              " '__contains__',\n",
              " '__delattr__',\n",
              " '__dir__',\n",
              " '__doc__',\n",
              " '__eq__',\n",
              " '__format__',\n",
              " '__ge__',\n",
              " '__getattribute__',\n",
              " '__getitem__',\n",
              " '__getnewargs__',\n",
              " '__getstate__',\n",
              " '__gt__',\n",
              " '__hash__',\n",
              " '__init__',\n",
              " '__init_subclass__',\n",
              " '__iter__',\n",
              " '__le__',\n",
              " '__len__',\n",
              " '__lt__',\n",
              " '__mod__',\n",
              " '__mul__',\n",
              " '__ne__',\n",
              " '__new__',\n",
              " '__reduce__',\n",
              " '__reduce_ex__',\n",
              " '__repr__',\n",
              " '__rmod__',\n",
              " '__rmul__',\n",
              " '__setattr__',\n",
              " '__sizeof__',\n",
              " '__str__',\n",
              " '__subclasshook__',\n",
              " 'capitalize',\n",
              " 'casefold',\n",
              " 'center',\n",
              " 'count',\n",
              " 'encode',\n",
              " 'endswith',\n",
              " 'expandtabs',\n",
              " 'find',\n",
              " 'format',\n",
              " 'format_map',\n",
              " 'index',\n",
              " 'isalnum',\n",
              " 'isalpha',\n",
              " 'isascii',\n",
              " 'isdecimal',\n",
              " 'isdigit',\n",
              " 'isidentifier',\n",
              " 'islower',\n",
              " 'isnumeric',\n",
              " 'isprintable',\n",
              " 'isspace',\n",
              " 'istitle',\n",
              " 'isupper',\n",
              " 'join',\n",
              " 'ljust',\n",
              " 'lower',\n",
              " 'lstrip',\n",
              " 'maketrans',\n",
              " 'partition',\n",
              " 'removeprefix',\n",
              " 'removesuffix',\n",
              " 'replace',\n",
              " 'rfind',\n",
              " 'rindex',\n",
              " 'rjust',\n",
              " 'rpartition',\n",
              " 'rsplit',\n",
              " 'rstrip',\n",
              " 'split',\n",
              " 'splitlines',\n",
              " 'startswith',\n",
              " 'strip',\n",
              " 'swapcase',\n",
              " 'title',\n",
              " 'translate',\n",
              " 'upper',\n",
              " 'zfill']"
            ]
          },
          "metadata": {},
          "execution_count": 30
        }
      ]
    },
    {
      "cell_type": "code",
      "source": [
        "[x for x in dir(str) if \"__\" not in x]"
      ],
      "metadata": {
        "colab": {
          "base_uri": "https://localhost:8080/"
        },
        "id": "jEJaaXng035I",
        "outputId": "fcd30c5a-e7dd-47e5-ba3f-c914dc609acd"
      },
      "execution_count": 32,
      "outputs": [
        {
          "output_type": "execute_result",
          "data": {
            "text/plain": [
              "['capitalize',\n",
              " 'casefold',\n",
              " 'center',\n",
              " 'count',\n",
              " 'encode',\n",
              " 'endswith',\n",
              " 'expandtabs',\n",
              " 'find',\n",
              " 'format',\n",
              " 'format_map',\n",
              " 'index',\n",
              " 'isalnum',\n",
              " 'isalpha',\n",
              " 'isascii',\n",
              " 'isdecimal',\n",
              " 'isdigit',\n",
              " 'isidentifier',\n",
              " 'islower',\n",
              " 'isnumeric',\n",
              " 'isprintable',\n",
              " 'isspace',\n",
              " 'istitle',\n",
              " 'isupper',\n",
              " 'join',\n",
              " 'ljust',\n",
              " 'lower',\n",
              " 'lstrip',\n",
              " 'maketrans',\n",
              " 'partition',\n",
              " 'removeprefix',\n",
              " 'removesuffix',\n",
              " 'replace',\n",
              " 'rfind',\n",
              " 'rindex',\n",
              " 'rjust',\n",
              " 'rpartition',\n",
              " 'rsplit',\n",
              " 'rstrip',\n",
              " 'split',\n",
              " 'splitlines',\n",
              " 'startswith',\n",
              " 'strip',\n",
              " 'swapcase',\n",
              " 'title',\n",
              " 'translate',\n",
              " 'upper',\n",
              " 'zfill']"
            ]
          },
          "metadata": {},
          "execution_count": 32
        }
      ]
    },
    {
      "cell_type": "code",
      "source": [
        "name = \"ammar\"\n",
        "ages =[10,20,30]\n",
        "\n",
        "#name.\n",
        "#ages.\n",
        "\n",
        "print(name.capitalize())  #first charachter uppercase\n",
        "print(name.title())       #  all words first letter\n",
        "print(name.lower())\n",
        "print(name.upper())\n",
        "print(name.casefold())     #check////////\n",
        "print(name.strip()) #python counts space - strip\n",
        "\n",
        "text =\"Pakistan is a bad bad country\"\n",
        "print(text.replace(\"bad\",\"good\", 1)) #1 is count\n",
        "\n",
        "#when we apply method above - will the text be same object or different////////\n",
        "\n",
        "print(text.replace(\"bad\",\"good\")) #willl replace all\n",
        "\n",
        "\n",
        "\n",
        "\n",
        "\n"
      ],
      "metadata": {
        "colab": {
          "base_uri": "https://localhost:8080/"
        },
        "id": "UHqy_5WU1GGV",
        "outputId": "3648501d-00ab-44a2-ed80-246b78f4bb52"
      },
      "execution_count": 5,
      "outputs": [
        {
          "output_type": "stream",
          "name": "stdout",
          "text": [
            "Ammar\n",
            "Ammar\n",
            "ammar\n",
            "AMMAR\n",
            "ammar\n",
            "ammar\n",
            "Pakistan is a good bad country\n",
            "Pakistan is a good good country\n"
          ]
        }
      ]
    },
    {
      "cell_type": "code",
      "source": [
        "sentence =\"I love pakistan\"\n",
        "words =sentence.split()\n",
        "print(words)\n",
        "\n",
        "shopping_list = \"Apple, bananna, orange, mango\" #if we want to divide string values and put them into a list  - it will split from white space\n",
        "print(shopping_list.split())\n",
        "\n",
        "print(shopping_list.split(\",\")) #giving split identifier- ,\n",
        "\n",
        "shopping_list = \"Apple bananna orange mango\"\n",
        "print(shopping_list.split(\" \"))"
      ],
      "metadata": {
        "colab": {
          "base_uri": "https://localhost:8080/"
        },
        "id": "FK0X4ScPvZ_M",
        "outputId": "34cfdcda-c6fd-4965-dbd8-80b775b4b630"
      },
      "execution_count": 12,
      "outputs": [
        {
          "output_type": "stream",
          "name": "stdout",
          "text": [
            "['I', 'love', 'pakistan']\n",
            "['Apple,', 'bananna,', 'orange,', 'mango']\n",
            "['Apple', ' bananna', ' orange', ' mango']\n",
            "['Apple', 'bananna', 'orange', 'mango']\n"
          ]
        }
      ]
    },
    {
      "cell_type": "code",
      "source": [
        "sentence =\"I love my pakistan\" #can our string be type caset in list - yes\n",
        "print(list(sentence))  #all individual chars + white space are string elements   it will take white space as an individual char"
      ],
      "metadata": {
        "colab": {
          "base_uri": "https://localhost:8080/"
        },
        "id": "zaEIrqCpwbz5",
        "outputId": "36ba72e9-7b36-4d8f-96f7-8748dbeff64a"
      },
      "execution_count": 10,
      "outputs": [
        {
          "output_type": "stream",
          "name": "stdout",
          "text": [
            "['I', ' ', 'l', 'o', 'v', 'e', ' ', 'm', 'y', ' ', 'p', 'a', 'k', 'i', 's', 't', 'a', 'n']\n"
          ]
        }
      ]
    },
    {
      "cell_type": "code",
      "source": [
        "text = \"I like to play football\"\n",
        "print(text.find(\"play\"))\n",
        "print(text.find(\"crikcet\")) #-1   -suppose u r trying to find user nmes in the db, -1 will tell name doesnt exit in the db\n",
        "\n",
        "text1 = \"I like to play football and i aslo play crickt\" #will give the same answer\n",
        "print(text1.find(\"play\"))\n",
        "text1.find(\"play\", 11) #start from 11th index\n",
        "\n",
        "text1.index(\"play\", -1) #it will give error - the difference is this in index and find. if we dont want to give -1 and show error\n"
      ],
      "metadata": {
        "colab": {
          "base_uri": "https://localhost:8080/",
          "height": 228
        },
        "id": "j3SOsXhbyJGm",
        "outputId": "9d3306b7-7d86-4b3b-cb46-fadf824fd1f2"
      },
      "execution_count": 16,
      "outputs": [
        {
          "output_type": "stream",
          "name": "stdout",
          "text": [
            "10\n",
            "-1\n",
            "10\n"
          ]
        },
        {
          "output_type": "error",
          "ename": "ValueError",
          "evalue": "substring not found",
          "traceback": [
            "\u001b[0;31m---------------------------------------------------------------------------\u001b[0m",
            "\u001b[0;31mValueError\u001b[0m                                Traceback (most recent call last)",
            "\u001b[0;32m/tmp/ipython-input-4138819902.py\u001b[0m in \u001b[0;36m<cell line: 0>\u001b[0;34m()\u001b[0m\n\u001b[1;32m      7\u001b[0m \u001b[0mtext1\u001b[0m\u001b[0;34m.\u001b[0m\u001b[0mfind\u001b[0m\u001b[0;34m(\u001b[0m\u001b[0;34m\"play\"\u001b[0m\u001b[0;34m,\u001b[0m \u001b[0;36m11\u001b[0m\u001b[0;34m)\u001b[0m \u001b[0;31m#start from 11th index\u001b[0m\u001b[0;34m\u001b[0m\u001b[0;34m\u001b[0m\u001b[0m\n\u001b[1;32m      8\u001b[0m \u001b[0;34m\u001b[0m\u001b[0m\n\u001b[0;32m----> 9\u001b[0;31m \u001b[0mtext1\u001b[0m\u001b[0;34m.\u001b[0m\u001b[0mindex\u001b[0m\u001b[0;34m(\u001b[0m\u001b[0;34m\"play\"\u001b[0m\u001b[0;34m,\u001b[0m \u001b[0;34m-\u001b[0m\u001b[0;36m1\u001b[0m\u001b[0;34m)\u001b[0m \u001b[0;31m#it will give error - the difference is this in index and find. if we dont want to give -1 and show error\u001b[0m\u001b[0;34m\u001b[0m\u001b[0;34m\u001b[0m\u001b[0m\n\u001b[0m",
            "\u001b[0;31mValueError\u001b[0m: substring not found"
          ]
        }
      ]
    },
    {
      "cell_type": "code",
      "source": [
        "image ='image.png'  #u will restrict user\n",
        "print(image.endswith(\".png\"))\n",
        "print(image.endswith(\".jpg\"))"
      ],
      "metadata": {
        "colab": {
          "base_uri": "https://localhost:8080/"
        },
        "id": "_AhlAXSfzvXV",
        "outputId": "33531c34-58e8-419d-973a-a2aed7cb8a36"
      },
      "execution_count": 17,
      "outputs": [
        {
          "output_type": "stream",
          "name": "stdout",
          "text": [
            "True\n",
            "False\n"
          ]
        }
      ]
    },
    {
      "cell_type": "code",
      "source": [
        "#Lstrip - left only  R strip -right"
      ],
      "metadata": {
        "id": "AJ3oxGBO0ERh"
      },
      "execution_count": 19,
      "outputs": []
    },
    {
      "cell_type": "code",
      "source": [
        "#is -  in methods start - return result will be bool\n",
        "#isalnum/isalpha/isascii etc"
      ],
      "metadata": {
        "id": "HDgkQnpr0MOe"
      },
      "execution_count": 20,
      "outputs": []
    },
    {
      "cell_type": "code",
      "source": [
        "[x for x in dir(list) if \"__\" not in x]"
      ],
      "metadata": {
        "colab": {
          "base_uri": "https://localhost:8080/"
        },
        "id": "gs97LNnX1JTh",
        "outputId": "62df9f1f-7976-47c0-ebe6-8f9d19faabcf"
      },
      "execution_count": 21,
      "outputs": [
        {
          "output_type": "execute_result",
          "data": {
            "text/plain": [
              "['append',\n",
              " 'clear',\n",
              " 'copy',\n",
              " 'count',\n",
              " 'extend',\n",
              " 'index',\n",
              " 'insert',\n",
              " 'pop',\n",
              " 'remove',\n",
              " 'reverse',\n",
              " 'sort']"
            ]
          },
          "metadata": {},
          "execution_count": 21
        }
      ]
    },
    {
      "cell_type": "code",
      "source": [
        "shopping_list=[\"apple\",\"bannana\"]\n",
        "shopping_list.append(\"orange\")\n",
        "print(shopping_list)\n",
        "\n",
        "#would the id of list change when appended\n",
        "\n",
        "shopping_list.append(5)  #adds at end of the lsit  #is performacne better in case of appendinga t end\n",
        "print(shopping_list)"
      ],
      "metadata": {
        "colab": {
          "base_uri": "https://localhost:8080/"
        },
        "id": "P45nfq7C15oC",
        "outputId": "6aa4e19a-0d2f-4a1d-a81c-025d24936d3c"
      },
      "execution_count": 23,
      "outputs": [
        {
          "output_type": "stream",
          "name": "stdout",
          "text": [
            "['apple', 'bannana', 'orange']\n",
            "['apple', 'bannana', 'orange', 5]\n"
          ]
        }
      ]
    },
    {
      "cell_type": "code",
      "source": [
        "tasks = [\"gaming\",\"sleep\"]  #append in mid or somewhere else other than end\n",
        "tasks.insert(1, \"study\")\n",
        "print(tasks)  #in this case python has to change the whole order so append is more efficent - less execution timw is preeefrable so more user friendly\n",
        "\n"
      ],
      "metadata": {
        "colab": {
          "base_uri": "https://localhost:8080/"
        },
        "id": "3vVisqYz2iGe",
        "outputId": "1130f8a3-e642-4575-e05f-80482c3a9e2c"
      },
      "execution_count": 27,
      "outputs": [
        {
          "output_type": "stream",
          "name": "stdout",
          "text": [
            "['gaming', 'study', 'sleep']\n"
          ]
        }
      ]
    },
    {
      "cell_type": "code",
      "source": [
        "tasks2 = [\"gaming\",\"sleep\"]\n",
        "tasks2.insert(-1, \"rehan\")\n",
        "print(tasks2)\n",
        "\n",
        "#do 100 instead of -1\n",
        "tasks2.insert(100, \"rehan\")\n",
        "print(tasks2)   #it will append at end -if we wanrt to put at end than give an index which doesnt exist"
      ],
      "metadata": {
        "colab": {
          "base_uri": "https://localhost:8080/"
        },
        "id": "m1CJKVcj3etX",
        "outputId": "0d5a64dc-f9ff-4b91-cf33-62ed823f755e"
      },
      "execution_count": 31,
      "outputs": [
        {
          "output_type": "stream",
          "name": "stdout",
          "text": [
            "['gaming', 'rehan', 'sleep']\n",
            "['gaming', 'rehan', 'sleep', 'rehan']\n"
          ]
        }
      ]
    },
    {
      "cell_type": "code",
      "source": [
        "new_list =[1, 2, 3, 4, 5]\n",
        "new_list.insert(-1,8)\n",
        "print(new_list)\n",
        "new_list1 =[1, 2, 3, 4, 5]\n",
        "new_list1.insert(-2,8)   #actually inserting on -2+1\n",
        "print(new_list1)"
      ],
      "metadata": {
        "colab": {
          "base_uri": "https://localhost:8080/"
        },
        "id": "r2_bOWrF6MbN",
        "outputId": "653f37f7-9467-4bb0-ec86-30af59c25f03"
      },
      "execution_count": 35,
      "outputs": [
        {
          "output_type": "stream",
          "name": "stdout",
          "text": [
            "[1, 2, 3, 4, 8, 5]\n",
            "[1, 2, 3, 8, 4, 5]\n"
          ]
        }
      ]
    }
  ]
}